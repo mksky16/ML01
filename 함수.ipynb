{
  "nbformat": 4,
  "nbformat_minor": 0,
  "metadata": {
    "colab": {
      "name": " 함수",
      "provenance": [],
      "collapsed_sections": [],
      "authorship_tag": "ABX9TyMFL2Mtk+weRJbi146+gbfR",
      "include_colab_link": true
    },
    "kernelspec": {
      "name": "python3",
      "display_name": "Python 3"
    }
  },
  "cells": [
    {
      "cell_type": "markdown",
      "metadata": {
        "id": "view-in-github",
        "colab_type": "text"
      },
      "source": [
        "<a href=\"https://colab.research.google.com/github/mksky16/ML01/blob/master/%ED%95%A8%EC%88%98.ipynb\" target=\"_parent\"><img src=\"https://colab.research.google.com/assets/colab-badge.svg\" alt=\"Open In Colab\"/></a>"
      ]
    },
    {
      "cell_type": "code",
      "metadata": {
        "id": "drEpx3sJisME",
        "colab_type": "code",
        "colab": {
          "base_uri": "https://localhost:8080/",
          "height": 34
        },
        "outputId": "0006128b-8757-47d1-97bf-d0087a5fbc12"
      },
      "source": [
        "x=[2, 4, 6, 8]\n",
        "y=[81, 93, 91, 97]\n",
        "\n",
        "# x와 y의 평균값\n",
        "mx = (2+4+6+8)/4\n",
        "my = (81+93+91+97)/4\n",
        "\n",
        "# (x-x평균)(y-y평균)의 합을 함수로 만들어보세요.\n",
        "\n",
        "def top(x, mx, y, my):\n",
        "    d = 0\n",
        "    for i in range(4):\n",
        "        d=d + (x[i] - mx) * (y[i] - my)\n",
        "    return d\n",
        "dividend = top(x, mx, y, my)\n",
        "print (dividend)"
      ],
      "execution_count": 1,
      "outputs": [
        {
          "output_type": "stream",
          "text": [
            "46.0\n"
          ],
          "name": "stdout"
        }
      ]
    }
  ]
}